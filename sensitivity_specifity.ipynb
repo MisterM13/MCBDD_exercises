{
 "cells": [
  {
   "cell_type": "markdown",
   "id": "4037e352",
   "metadata": {},
   "source": [
    "##Sensitivity and Specitivity\n",
    "\n",
    "This Program was made in connection with the lecture of Mathematical and Computational Biology in Drug Discovery held by Jitao David Zhang on University Basel\n",
    "\n",
    "It is to show and clarify sensitifity and specifity with an simulated absolute Population.\n",
    "Made by Matthias Müller \n",
    "https://github.com/MisterM13"
   ]
  },
  {
   "cell_type": "code",
   "execution_count": 37,
   "id": "c53f3940",
   "metadata": {},
   "outputs": [],
   "source": [
    "def mult(val,vec):\n",
    "    r = []\n",
    "    for i in vec:\n",
    "        r.append(i*val)\n",
    "    return r"
   ]
  },
  {
   "cell_type": "code",
   "execution_count": 38,
   "id": "805a53f0",
   "metadata": {},
   "outputs": [],
   "source": [
    "def sub(val, vec):\n",
    "    r = []\n",
    "    for i in vec:\n",
    "        r.append(val-i)\n",
    "    return r"
   ]
  },
  {
   "cell_type": "code",
   "execution_count": 39,
   "id": "5284cb51",
   "metadata": {},
   "outputs": [],
   "source": [
    "def add(val, vec):\n",
    "    r = []\n",
    "    for i in vec:\n",
    "        r.append(val+i)\n",
    "    return r"
   ]
  },
  {
   "cell_type": "code",
   "execution_count": 44,
   "id": "94e9f0f1",
   "metadata": {},
   "outputs": [],
   "source": [
    "def div(val, vec):\n",
    "    r = []\n",
    "    for i in vec:\n",
    "        r.append(val/i)\n",
    "    return r"
   ]
  },
  {
   "cell_type": "code",
   "execution_count": 71,
   "id": "8d6da114",
   "metadata": {},
   "outputs": [],
   "source": [
    "def isPositive(sensitivity,specificity,prevalence):\n",
    "    notInfected = 1-prevalence\n",
    "    groundpopulation = 100000\n",
    "    absInf = groundpopulation*prevalence\n",
    "    absNotInf = groundpopulation*notInfected\n",
    "    truePos = absInf*sensitivity\n",
    "    falseNeg = absInf-truePos\n",
    "    trueNeg = mult(absNotInf,specificity)\n",
    "    falsePos = sub(absNotInf,trueNeg)\n",
    "    testPosPos = div(truePos,add(truePos,falsePos))\n",
    "    return testPosPos"
   ]
  },
  {
   "cell_type": "code",
   "execution_count": 77,
   "id": "4ed6f161",
   "metadata": {
    "scrolled": false
   },
   "outputs": [],
   "source": [
    "#specificity = spe\n",
    "#sensitivity = sen\n",
    "#prevalence = pre\n",
    "spe = [0.99,0.999,0.9999,0.99999]\n",
    "sen = 0.99\n",
    "res1 = [] #0.99 spe\n",
    "res2 = [] #0.999 spe\n",
    "res3 = [] #0.9999 spe\n",
    "res4 = [] #0.99999 spe\n",
    "for pre in range(1,5000,1):\n",
    "    pre = pre/10000\n",
    "    x = isPositive(sen,spe,pre)\n",
    "    res1.append(x[0])\n",
    "    res2.append(x[1])\n",
    "    res3.append(x[2])\n",
    "    res4.append(x[3])\n",
    "    "
   ]
  },
  {
   "cell_type": "markdown",
   "id": "dfd4d57e",
   "metadata": {},
   "source": [
    "## Plots\n",
    "on the x axis we have the prevalence\n",
    "\n",
    "on the y axis we have the probability of being Positive, tested positive"
   ]
  },
  {
   "cell_type": "code",
   "execution_count": 78,
   "id": "a726e4c5",
   "metadata": {},
   "outputs": [
    {
     "data": {
      "text/plain": [
       "[<matplotlib.lines.Line2D at 0x1105e7c70>]"
      ]
     },
     "execution_count": 78,
     "metadata": {},
     "output_type": "execute_result"
    },
    {
     "data": {
      "image/png": "[encoded data removed]",
      "text/plain": [
       "<Figure size 432x288 with 1 Axes>"
      ]
     },
     "metadata": {
      "needs_background": "light"
     },
     "output_type": "display_data"
    }
   ],
   "source": [
    "import pylab as plt\n",
    "plt.plot(res1)\n",
    "#specificity = 0.99"
   ]
  },
  {
   "cell_type": "code",
   "execution_count": 79,
   "id": "380748f5",
   "metadata": {},
   "outputs": [
    {
     "data": {
      "text/plain": [
       "[<matplotlib.lines.Line2D at 0x14c1031f0>]"
      ]
     },
     "execution_count": 79,
     "metadata": {},
     "output_type": "execute_result"
    },
    {
     "data": {
      "image/png": "[encoded data removed]",
      "text/plain": [
       "<Figure size 432x288 with 1 Axes>"
      ]
     },
     "metadata": {
      "needs_background": "light"
     },
     "output_type": "display_data"
    }
   ],
   "source": [
    "plt.plot(res2)\n",
    "#specificity = 0.999"
   ]
  },
  {
   "cell_type": "code",
   "execution_count": 80,
   "id": "d13547bf",
   "metadata": {},
   "outputs": [
    {
     "data": {
      "text/plain": [
       "[<matplotlib.lines.Line2D at 0x14c01e370>]"
      ]
     },
     "execution_count": 80,
     "metadata": {},
     "output_type": "execute_result"
    },
    {
     "data": {
      "image/png": "[encoded data removed]",
      "text/plain": [
       "<Figure size 432x288 with 1 Axes>"
      ]
     },
     "metadata": {
      "needs_background": "light"
     },
     "output_type": "display_data"
    }
   ],
   "source": [
    "plt.plot(res3)\n",
    "#specificity = 0.9999"
   ]
  },
  {
   "cell_type": "code",
   "execution_count": 81,
   "id": "28c0cea9",
   "metadata": {},
   "outputs": [
    {
     "data": {
      "text/plain": [
       "[<matplotlib.lines.Line2D at 0x14c3bc670>]"
      ]
     },
     "execution_count": 81,
     "metadata": {},
     "output_type": "execute_result"
    },
    {
     "data": {
      "image/png": "[encoded data removed]",
      "text/plain": [
       "<Figure size 432x288 with 1 Axes>"
      ]
     },
     "metadata": {
      "needs_background": "light"
     },
     "output_type": "display_data"
    }
   ],
   "source": [
    "plt.plot(res4)\n",
    "#specificity = 0.99999"
   ]
  },
  {
   "cell_type": "markdown",
   "id": "471a19d0",
   "metadata": {},
   "source": [
    "The higher the Specificity, the higher is the chance to be positive, tested positive"
   ]
  },
  {
   "cell_type": "code",
   "execution_count": null,
   "id": "e9638186",
   "metadata": {},
   "outputs": [],
   "source": []
  }
 ],
 "metadata": {
  "kernelspec": {
   "display_name": "Python 3 (ipykernel)",
   "language": "python",
   "name": "python3"
  },
  "language_info": {
   "codemirror_mode": {
    "name": "ipython",
    "version": 3
   },
   "file_extension": ".py",
   "mimetype": "text/x-python",
   "name": "python",
   "nbconvert_exporter": "python",
   "pygments_lexer": "ipython3",
   "version": "3.9.0"
  }
 },
 "nbformat": 4,
 "nbformat_minor": 5
}
